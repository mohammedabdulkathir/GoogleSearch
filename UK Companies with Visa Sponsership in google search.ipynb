{
 "cells": [
  {
   "cell_type": "code",
   "execution_count": null,
   "metadata": {},
   "outputs": [],
   "source": [
    "import pandas as pd\n",
    "\n",
    "df = pd.read_excel (r'C:\\Users\\dell\\Desktop\\Tier.xlsx')"
   ]
  },
  {
   "cell_type": "code",
   "execution_count": null,
   "metadata": {},
   "outputs": [],
   "source": [
    "df1 = df"
   ]
  },
  {
   "cell_type": "code",
   "execution_count": null,
   "metadata": {},
   "outputs": [],
   "source": [
    "df2 = df1.iloc[:, 0].dropna()"
   ]
  },
  {
   "cell_type": "code",
   "execution_count": null,
   "metadata": {},
   "outputs": [],
   "source": [
    "df2.describe()"
   ]
  },
  {
   "cell_type": "code",
   "execution_count": null,
   "metadata": {},
   "outputs": [],
   "source": [
    "df2.to_csv(r'C:\\Users\\dell\\Desktop\\UKCompanies.csv')"
   ]
  },
  {
   "cell_type": "code",
   "execution_count": null,
   "metadata": {},
   "outputs": [],
   "source": [
    "#pip install googlesearch-python"
   ]
  },
  {
   "cell_type": "code",
   "execution_count": 2,
   "metadata": {},
   "outputs": [
    {
     "ename": "SyntaxError",
     "evalue": "invalid syntax (<ipython-input-2-c45e3d3307f1>, line 1)",
     "output_type": "error",
     "traceback": [
      "\u001b[1;36m  File \u001b[1;32m\"<ipython-input-2-c45e3d3307f1>\"\u001b[1;36m, line \u001b[1;32m1\u001b[0m\n\u001b[1;33m    from googlesearch-python import search\u001b[0m\n\u001b[1;37m                     ^\u001b[0m\n\u001b[1;31mSyntaxError\u001b[0m\u001b[1;31m:\u001b[0m invalid syntax\n"
     ]
    }
   ],
   "source": [
    "from googlesearch-python import search"
   ]
  },
  {
   "cell_type": "code",
   "execution_count": 11,
   "metadata": {},
   "outputs": [
    {
     "data": {
      "text/plain": [
       "<generator object search at 0x0000000005BEC900>"
      ]
     },
     "execution_count": 11,
     "metadata": {},
     "output_type": "execute_result"
    }
   ],
   "source": [
    "search(\"test\")"
   ]
  },
  {
   "cell_type": "code",
   "execution_count": 10,
   "metadata": {},
   "outputs": [
    {
     "ename": "NameError",
     "evalue": "name 'googlesearch' is not defined",
     "output_type": "error",
     "traceback": [
      "\u001b[1;31m---------------------------------------------------------------------------\u001b[0m",
      "\u001b[1;31mNameError\u001b[0m                                 Traceback (most recent call last)",
      "\u001b[1;32m<ipython-input-10-18b12d539feb>\u001b[0m in \u001b[0;36m<module>\u001b[1;34m\u001b[0m\n\u001b[1;32m----> 1\u001b[1;33m \u001b[0mgooglesearch\u001b[0m\u001b[1;33m.\u001b[0m\u001b[0msearch\u001b[0m\u001b[1;33m(\u001b[0m\u001b[1;34m\"test\"\u001b[0m\u001b[1;33m)\u001b[0m\u001b[1;33m\u001b[0m\u001b[1;33m\u001b[0m\u001b[0m\n\u001b[0m",
      "\u001b[1;31mNameError\u001b[0m: name 'googlesearch' is not defined"
     ]
    }
   ],
   "source": [
    "googlesearch.search(\"test\")"
   ]
  },
  {
   "cell_type": "code",
   "execution_count": 29,
   "metadata": {},
   "outputs": [
    {
     "name": "stdout",
     "output_type": "stream",
     "text": [
      "None\n",
      "None\n",
      "None\n",
      "None\n",
      "None\n",
      "<re.Match object; span=(0, 113), match='https://maps.google.com/maps?q=0-two+Maintenance&>\n",
      "None\n",
      "None\n",
      "None\n",
      "None\n",
      "None\n",
      "None\n",
      "None\n",
      "None\n",
      "None\n",
      "None\n",
      "None\n",
      "<re.Match object; span=(7, 125), match='https://0twomaintenance.co.uk/&sa=U&ved=2ahUKEwjZ>\n",
      "<re.Match object; span=(7, 138), match='https://0twomaintenance.co.uk/contact-us/&sa=U&ve>\n",
      "<re.Match object; span=(7, 137), match='http://0twomaintenance.co.uk/about-link/&sa=U&ved>\n",
      "<re.Match object; span=(7, 136), match='https://0twomaintenance.co.uk/why-0two/&sa=U&ved=>\n",
      "<re.Match object; span=(7, 153), match='https://www.linkedin.com/company/0-two-maintenanc>\n",
      "<re.Match object; span=(7, 146), match='https://www.linkedin.com/company/two-maintenance->\n",
      "None\n",
      "None\n",
      "None\n",
      "<re.Match object; span=(7, 148), match='https://www.instagram.com/0two.maintenance/%3Fhl%>\n",
      "<re.Match object; span=(7, 170), match='https://find-and-update.company-information.servi>\n",
      "<re.Match object; span=(7, 158), match='https://www.facebook.com/0twomaintenance/%3Fref%3>\n",
      "<re.Match object; span=(7, 143), match='https://www.zoominfo.com/c/maintenance/355437036&>\n",
      "<re.Match object; span=(7, 172), match='https://suite.endole.co.uk/insight/company/048179>\n",
      "None\n",
      "<re.Match object; span=(7, 165), match='https://support.google.com/websearch%3Fp%3Dws_set>\n",
      "<re.Match object; span=(7, 215), match='https://accounts.google.com/ServiceLogin%3Fcontin>\n",
      "<re.Match object; span=(0, 98), match='https://www.google.com/preferences?hl=en-IN&fg=1&>\n",
      "<re.Match object; span=(0, 49), match='https://policies.google.com/privacy?hl=en-IN&fg=1>\n",
      "<re.Match object; span=(0, 47), match='https://policies.google.com/terms?hl=en-IN&fg=1'>\n"
     ]
    }
   ],
   "source": [
    "# Import the beautifulsoup  \n",
    "# and request libraries of python. \n",
    "import requests\n",
    "from bs4 import BeautifulSoup\n",
    "import re\n",
    "import urllib.parse\n",
    "from urllib.parse import urlparse\n",
    "  \n",
    "# Make two strings with default google search URL \n",
    "# 'https://google.com/search?q=' and \n",
    "# our customized search keyword. \n",
    "# Concatenate them \n",
    "text= \"0-two Maintenance\"\n",
    "url = 'https://google.com/search?q=' + text \n",
    "  \n",
    "# Fetch the URL data using requests.get(url), \n",
    "# store it in a variable, request_result. \n",
    "request_result=requests.get( url ) \n",
    "  \n",
    "# Creating soup from the fetched request \n",
    "soup = bs4.BeautifulSoup(request_result.text, \n",
    "                         \"lxml\") \n",
    "a = soup.find_all('a')  \n",
    "    \n",
    "for i in a:\n",
    "    k = i.get('href')\n",
    "    m = re.search(\"(?P<url>https?://[^\\s]+)\", k)\n",
    "    print(m)\n",
    "    #n = m.group(0)\n",
    "    #rul = m.split('&')[0]\n",
    "    #domain = urlparse(m)\n",
    "    #domain.append(rul)"
   ]
  },
  {
   "cell_type": "code",
   "execution_count": 15,
   "metadata": {},
   "outputs": [
    {
     "ename": "IndentationError",
     "evalue": "unexpected indent (<ipython-input-15-b3bd82c3f7cb>, line 2)",
     "output_type": "error",
     "traceback": [
      "\u001b[1;36m  File \u001b[1;32m\"<ipython-input-15-b3bd82c3f7cb>\"\u001b[1;36m, line \u001b[1;32m2\u001b[0m\n\u001b[1;33m    if html.status_code==200:\u001b[0m\n\u001b[1;37m    ^\u001b[0m\n\u001b[1;31mIndentationError\u001b[0m\u001b[1;31m:\u001b[0m unexpected indent\n"
     ]
    }
   ],
   "source": [
    "html = requests.get(url)\n",
    "            if html.status_code==200:\n",
    "                soup = BeautifulSoup(html.text, 'lxml')\n",
    "                a = soup.find_all('a') // a is a list\n",
    "                for i in a:\n",
    "                    k = i.get('href')\n",
    "                    m = re.search(\"(?P<url>https?://[^\\s]+)\", k)\n",
    "                    n = m.group(0)\n",
    "                    rul = n.split('&')[0]\n",
    "                    domain = urlparse(rul)\n",
    "                    if(re.search('google.com', domain.netloc)):\n",
    "                        continue\n",
    "                    else:\n",
    "                        g_clean.append(rul)\n",
    "                        \n",
    "                        "
   ]
  },
  {
   "cell_type": "code",
   "execution_count": null,
   "metadata": {},
   "outputs": [],
   "source": []
  }
 ],
 "metadata": {
  "kernelspec": {
   "display_name": "Python 3",
   "language": "python",
   "name": "python3"
  },
  "language_info": {
   "codemirror_mode": {
    "name": "ipython",
    "version": 3
   },
   "file_extension": ".py",
   "mimetype": "text/x-python",
   "name": "python",
   "nbconvert_exporter": "python",
   "pygments_lexer": "ipython3",
   "version": "3.8.5"
  }
 },
 "nbformat": 4,
 "nbformat_minor": 4
}
